{
 "cells": [
  {
   "cell_type": "markdown",
   "metadata": {
    "tags": []
   },
   "source": [
    "# Lab | Data Structures "
   ]
  },
  {
   "cell_type": "markdown",
   "metadata": {},
   "source": [
    "## Exercise: Managing Customer Orders\n",
    "\n",
    "As part of a business venture, you are starting an online store that sells various products. To ensure smooth operations, you need to develop a program that manages customer orders and inventory.\n",
    "\n",
    "Follow the steps below to complete the exercise:\n",
    "\n",
    "1. Define a list called `products` that contains the following items: \"t-shirt\", \"mug\", \"hat\", \"book\", \"keychain\".\n",
    "\n",
    "2. Create an empty dictionary called `inventory`.\n",
    "\n",
    "3. Ask the user to input the quantity of each product available in the inventory. Use the product names from the `products` list as keys in the `inventory` dictionary and assign the respective quantities as values.\n",
    "\n",
    "4. Create an empty set called `customer_orders`.\n",
    "\n",
    "5. Ask the user to input the name of three products that a customer wants to order (from those in the products list, meaning three products out of \"t-shirt\", \"mug\", \"hat\", \"book\" or \"keychain\". Add each product name to the `customer_orders` set.\n",
    "\n",
    "6. Print the products in the `customer_orders` set.\n",
    "\n",
    "7. Calculate the following order statistics:\n",
    "   - Total Products Ordered: The total number of products in the `customer_orders` set.\n",
    "   - Percentage of Products Ordered: The percentage of products ordered compared to the total available products.\n",
    "   \n",
    "   Store these statistics in a tuple called `order_status`.\n",
    "\n",
    "8. Print the order statistics using the following format:\n",
    "   ```\n",
    "   Order Statistics:\n",
    "   Total Products Ordered: <total_products_ordered>\n",
    "   Percentage of Products Ordered: <percentage_ordered>% \n",
    "   ```\n",
    "\n",
    "9. Update the inventory by subtracting 1 from the quantity of each product. Modify the `inventory` dictionary accordingly.\n",
    "\n",
    "10. Print the updated inventory, displaying the quantity of each product on separate lines.\n",
    "\n",
    "Solve the exercise by implementing the steps using the Python concepts of lists, dictionaries, sets, and basic input/output operations. "
   ]
  },
  {
   "cell_type": "code",
   "execution_count": null,
   "metadata": {},
   "outputs": [],
   "source": []
  },
  {
   "cell_type": "code",
   "execution_count": 46,
   "metadata": {},
   "outputs": [
    {
     "name": "stdin",
     "output_type": "stream",
     "text": [
      "Please enter the t-shirt quantity:  3\n",
      "Please enter the mug quantity:  4\n",
      "Please enter the hat quantity:  8\n",
      "Please enter the book quantity:  2\n",
      "Please enter the keychain quantity:  7\n"
     ]
    },
    {
     "name": "stdout",
     "output_type": "stream",
     "text": [
      "{'t-shirt': 3, 'mug': 4, 'hat': 8, 'book': 2, 'keychain': 7}\n"
     ]
    }
   ],
   "source": [
    "#Q1\n",
    "products=[\"t-shirt\",\"mug\",\"hat\",\"book\",\"keychain\"]\n",
    "#Q2\n",
    "inventory={}\n",
    "\n",
    "#Q3\n",
    "for i in range(0,5):\n",
    "    product_qtty=int(input(f\"Please enter the {products[i]} quantity: \"))\n",
    "    inventory[products[i]]=product_qtty\n",
    "print(inventory)\n"
   ]
  },
  {
   "cell_type": "code",
   "execution_count": 48,
   "metadata": {},
   "outputs": [
    {
     "name": "stdin",
     "output_type": "stream",
     "text": [
      "Please enter your first item you wish to order, you can order a t-shirt, a mug, a hat, a book, or a keychain:  mug\n",
      "Please enter your first item you wish to order, you can order a t-shirt, a mug, a hat, a book, or a keychain:  hat\n",
      "Please enter your first item you wish to order, you can order a t-shirt, a mug, a hat, a book, or a keychain:  book\n"
     ]
    },
    {
     "name": "stdout",
     "output_type": "stream",
     "text": [
      "{'mug', 'book', 'hat'}\n"
     ]
    }
   ],
   "source": [
    "#Q4\n",
    "customer_orders=set()\n",
    "\n",
    "#Q5    \n",
    "order_1=input(\"Please enter your first item you wish to order, you can order a t-shirt, a mug, a hat, a book, or a keychain: \").lower()\n",
    "order_2=input(\"Please enter your first item you wish to order, you can order a t-shirt, a mug, a hat, a book, or a keychain: \").lower()\n",
    "order_3=input(\"Please enter your first item you wish to order, you can order a t-shirt, a mug, a hat, a book, or a keychain: \").lower()\n",
    "customer_orders.add(order_1)\n",
    "customer_orders.add(order_2)\n",
    "customer_orders.add(order_3)\n",
    "\n",
    "#Q6\n",
    "print(customer_orders)\n"
   ]
  },
  {
   "cell_type": "code",
   "execution_count": 50,
   "metadata": {},
   "outputs": [
    {
     "name": "stdout",
     "output_type": "stream",
     "text": [
      "3\n"
     ]
    }
   ],
   "source": [
    "#Q7\n",
    "total_products_ordered=len(customer_orders)\n",
    "print(total_products_ordered)"
   ]
  },
  {
   "cell_type": "code",
   "execution_count": 60,
   "metadata": {},
   "outputs": [
    {
     "name": "stdout",
     "output_type": "stream",
     "text": [
      "12.5\n"
     ]
    }
   ],
   "source": [
    "inventory.values()\n",
    "total_inventory=sum(inventory.values())\n",
    "percentage_products_ordered=total_products_ordered/total_inventory*100\n",
    "print(percentage_products_ordered)"
   ]
  },
  {
   "cell_type": "code",
   "execution_count": 64,
   "metadata": {},
   "outputs": [
    {
     "name": "stdout",
     "output_type": "stream",
     "text": [
      "(3, 12.5)\n"
     ]
    }
   ],
   "source": [
    "order_status=(total_products_ordered,percentage_products_ordered)\n",
    "print(order_status)"
   ]
  },
  {
   "cell_type": "code",
   "execution_count": 74,
   "metadata": {},
   "outputs": [
    {
     "name": "stdout",
     "output_type": "stream",
     "text": [
      "Order Statistics: \n",
      "Total Products Ordered: 3\n",
      "Percentage of Products Ordered: 12.5%\n"
     ]
    }
   ],
   "source": [
    "#Q8\n",
    "print(\"Order Statistics: \")\n",
    "print(f\"Total Products Ordered: {total_products_ordered}\")\n",
    "print(f\"Percentage of Products Ordered: {percentage_products_ordered}%\")"
   ]
  },
  {
   "cell_type": "code",
   "execution_count": 111,
   "metadata": {},
   "outputs": [
    {
     "name": "stdout",
     "output_type": "stream",
     "text": [
      "{'t-shirt': 3, 'mug': 4, 'hat': 8, 'book': 2, 'keychain': 7}\n",
      "{'mug', 'book', 'hat'}\n",
      "{'t-shirt': 3, 'mug': 3, 'hat': 7, 'book': 1, 'keychain': 7}\n"
     ]
    }
   ],
   "source": [
    "#Q9\n",
    "print(inventory)\n",
    "print(customer_orders)\n",
    "\n",
    "for product in customer_orders:\n",
    "    if product in inventory:\n",
    "        inventory[product]-=1\n",
    "print(inventory)"
   ]
  },
  {
   "cell_type": "code",
   "execution_count": 117,
   "metadata": {},
   "outputs": [
    {
     "name": "stdout",
     "output_type": "stream",
     "text": [
      "Updated inventory:\n",
      "t-shirt 3\n",
      "mug 3\n",
      "hat 7\n",
      "book 1\n",
      "keychain 7\n"
     ]
    }
   ],
   "source": [
    "#Q10\n",
    "print(\"Updated inventory:\")\n",
    "for order in inventory:\n",
    "    print(order,inventory[order])"
   ]
  },
  {
   "cell_type": "code",
   "execution_count": null,
   "metadata": {},
   "outputs": [],
   "source": []
  }
 ],
 "metadata": {
  "kernelspec": {
   "display_name": "Python 3 (ipykernel)",
   "language": "python",
   "name": "python3"
  },
  "language_info": {
   "codemirror_mode": {
    "name": "ipython",
    "version": 3
   },
   "file_extension": ".py",
   "mimetype": "text/x-python",
   "name": "python",
   "nbconvert_exporter": "python",
   "pygments_lexer": "ipython3",
   "version": "3.12.4"
  }
 },
 "nbformat": 4,
 "nbformat_minor": 4
}
